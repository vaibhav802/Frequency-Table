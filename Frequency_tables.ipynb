{
 "cells": [
  {
   "cell_type": "markdown",
   "metadata": {},
   "source": [
    "1. Create a frequency table of ungrouped data\n",
    "\n",
    "    10, 20, 30, 40, 10, 20, 100, 50, 60, 30, 20, 20, 10\n",
    "\n",
    "    Observation           Frequency\n",
    "    10              \n",
    "    20\n",
    "    30\n",
    "    40\n",
    "    50\n",
    "    60\n",
    "    100\n",
    "    \n",
    "    \n",
    "2. Create a frequency table for grouped data\n"
   ]
  },
  {
   "cell_type": "markdown",
   "metadata": {},
   "source": [
    "3. Create frequency table using inclusive method\n",
    "4. Create frequency percentage table"
   ]
  },
  {
   "cell_type": "markdown",
   "metadata": {},
   "source": [
    "5. Use exclusive method to create classes and calculate less than and more than cummulative Frequency table\n",
    "6. Calculate Cummulative Percentage Freq. Table\n",
    "7. Calculate mean for grouped data\n",
    "8. Calculate mean for ungrouped/ descrete frequency distribution\n",
    "9. Calculate weighted mean for data\n",
    "10. Median for for ungrouped/ descrete frequency distribution\n",
    "11. Make a program to calculate Quartile Deviation and Coeff. of Quartile Deviation\n",
    "12. Write a program to calculate mode of a group data"
   ]
  },
  {
   "cell_type": "markdown",
   "metadata": {},
   "source": [
    "### Create a frequency table of ungrouped data\n"
   ]
  },
  {
   "cell_type": "code",
   "execution_count": 362,
   "metadata": {},
   "outputs": [],
   "source": [
    "import numpy as np\n",
    "from collections import Counter\n"
   ]
  },
  {
   "cell_type": "code",
   "execution_count": 447,
   "metadata": {},
   "outputs": [],
   "source": [
    "arr = np.random.randint(1,50,20)\n",
    "arr1 = Counter(arr)"
   ]
  },
  {
   "cell_type": "code",
   "execution_count": 448,
   "metadata": {},
   "outputs": [
    {
     "name": "stdout",
     "output_type": "stream",
     "text": [
      "|\tObservation\t|\tFrequency\t|\n",
      "__________________________________________________\n",
      "|\t9\t\t|\t2\t\t|\n",
      "__________________________________________________\n",
      "|\t34\t\t|\t1\t\t|\n",
      "__________________________________________________\n",
      "|\t6\t\t|\t1\t\t|\n",
      "__________________________________________________\n",
      "|\t14\t\t|\t1\t\t|\n",
      "__________________________________________________\n",
      "|\t29\t\t|\t1\t\t|\n",
      "__________________________________________________\n",
      "|\t37\t\t|\t1\t\t|\n",
      "__________________________________________________\n",
      "|\t13\t\t|\t2\t\t|\n",
      "__________________________________________________\n",
      "|\t46\t\t|\t1\t\t|\n",
      "__________________________________________________\n",
      "|\t40\t\t|\t1\t\t|\n",
      "__________________________________________________\n",
      "|\t47\t\t|\t2\t\t|\n",
      "__________________________________________________\n",
      "|\t41\t\t|\t1\t\t|\n",
      "__________________________________________________\n",
      "|\t7\t\t|\t1\t\t|\n",
      "__________________________________________________\n",
      "|\t12\t\t|\t1\t\t|\n",
      "__________________________________________________\n",
      "|\t32\t\t|\t1\t\t|\n",
      "__________________________________________________\n",
      "|\t49\t\t|\t1\t\t|\n",
      "__________________________________________________\n",
      "|\t48\t\t|\t1\t\t|\n",
      "__________________________________________________\n",
      "|\t11\t\t|\t1\t\t|\n",
      "__________________________________________________\n"
     ]
    }
   ],
   "source": [
    "print('|\\tObservation\\t|\\tFrequency\\t|')\n",
    "print('_'*50)\n",
    "for i in arr1.items():\n",
    "    print(f'|\\t{i[0]}\\t\\t|\\t{i[1]}\\t\\t|')\n",
    "    print('_'*50)"
   ]
  },
  {
   "cell_type": "markdown",
   "metadata": {},
   "source": [
    "### 2. Create a frequency table for grouped data exclusive method\n",
    "\n"
   ]
  },
  {
   "cell_type": "code",
   "execution_count": 159,
   "metadata": {},
   "outputs": [],
   "source": [
    "arr = np.random.randint(1,200,50)\n"
   ]
  },
  {
   "cell_type": "code",
   "execution_count": 160,
   "metadata": {},
   "outputs": [
    {
     "data": {
      "text/plain": [
       "array([163,  35,  69,  59, 191, 192,  50, 167, 131, 165, 166, 165, 198,\n",
       "       128,  31, 118,  23,  81, 181, 104,  56, 183,   1, 161, 157, 186,\n",
       "       116, 190,  79, 134, 145,  25,  86, 137, 109,  53, 109, 164, 116,\n",
       "       199, 158, 194, 191,  92,  63, 151, 179, 116, 136, 177])"
      ]
     },
     "execution_count": 160,
     "metadata": {},
     "output_type": "execute_result"
    }
   ],
   "source": [
    "arr"
   ]
  },
  {
   "cell_type": "code",
   "execution_count": 161,
   "metadata": {},
   "outputs": [],
   "source": [
    "N = len(arr)\n",
    "k = int(round(1+(3.322*np.log10(N))))\n",
    "range_ = max(arr)- min(arr)\n",
    "size = int(round(range_ //k))"
   ]
  },
  {
   "cell_type": "code",
   "execution_count": 169,
   "metadata": {},
   "outputs": [],
   "source": [
    "def freq_grouped_data(arr):\n",
    "    N = len(arr)\n",
    "    k = int(round(1+(3.322*np.log10(N))))\n",
    "    range_ = max(arr)- min(arr)\n",
    "    size = int(round(range_ //k))\n",
    "    intervals = list(range(min(arr),max(arr)+size,size))\n",
    "    freq = []\n",
    "    arr1  = list(arr)\n",
    "    for i in range(len(intervals)-1):\n",
    "        count = 0\n",
    "        ll = intervals[i]\n",
    "        ul = intervals[i+1]\n",
    "        if ul==max(arr1):\n",
    "            for j in range(ll,ul+1):\n",
    "                count+=arr1.count(j)\n",
    "        else:\n",
    "            for j in range(ll,ul):\n",
    "                count+=arr1.count(j)\n",
    "        freq.append(count)\n",
    "    print('|\\tIntervals\\t|\\tFrequency\\t|')\n",
    "    print('_'*50)\n",
    "    for i in range(len(intervals)-1):\n",
    "        ll = intervals[i]\n",
    "        ul = intervals[i+1]\n",
    "        print(f'|\\t{ll}-{ul}\\t\\t|\\t{freq[i]}\\t\\t|')\n",
    "        print('_'*50)\n",
    "    \n"
   ]
  },
  {
   "cell_type": "code",
   "execution_count": 170,
   "metadata": {},
   "outputs": [
    {
     "name": "stdout",
     "output_type": "stream",
     "text": [
      "|\tIntervals\t|\tFrequency\t|\n",
      "__________________________________________________\n",
      "|\t1-29\t\t|\t3\t\t|\n",
      "__________________________________________________\n",
      "|\t29-57\t\t|\t5\t\t|\n",
      "__________________________________________________\n",
      "|\t57-85\t\t|\t5\t\t|\n",
      "__________________________________________________\n",
      "|\t85-113\t\t|\t5\t\t|\n",
      "__________________________________________________\n",
      "|\t113-141\t\t|\t9\t\t|\n",
      "__________________________________________________\n",
      "|\t141-169\t\t|\t11\t\t|\n",
      "__________________________________________________\n",
      "|\t169-197\t\t|\t10\t\t|\n",
      "__________________________________________________\n",
      "|\t197-225\t\t|\t2\t\t|\n",
      "__________________________________________________\n"
     ]
    }
   ],
   "source": [
    "freq_grouped_data(arr)"
   ]
  },
  {
   "cell_type": "markdown",
   "metadata": {},
   "source": [
    "### Create a frequency table for grouped data inclusive method"
   ]
  },
  {
   "cell_type": "code",
   "execution_count": 43,
   "metadata": {},
   "outputs": [],
   "source": [
    "arr = np.random.randint(1,200,50)"
   ]
  },
  {
   "cell_type": "code",
   "execution_count": 46,
   "metadata": {},
   "outputs": [
    {
     "data": {
      "text/plain": [
       "array([190, 137, 191, 186, 125,  27, 189,  43, 166, 181,   9, 118,  58,\n",
       "       101,  39,  60, 132, 113, 193, 143, 100, 175, 156,  31,  32,  11,\n",
       "        58,  65, 196, 161, 110, 118, 152, 181,  30, 181,  20,  71, 113,\n",
       "       164,  26, 156,  27, 135,  80, 156, 125, 145,  12, 106])"
      ]
     },
     "execution_count": 46,
     "metadata": {},
     "output_type": "execute_result"
    }
   ],
   "source": [
    "arr"
   ]
  },
  {
   "cell_type": "code",
   "execution_count": 119,
   "metadata": {},
   "outputs": [],
   "source": [
    "def freq_grouped1_data(arr):\n",
    "    N = len(arr)\n",
    "    k = int(round(1+(3.322*np.log10(N))))\n",
    "    range_ = max(arr)- min(arr)\n",
    "    size = int(round(range_ //k))\n",
    "    intervals = list(range(min(arr),max(arr)+size,size))\n",
    "    freq = []\n",
    "    arr1  = list(arr)\n",
    "    for i in range(len(intervals)-1):\n",
    "        count = 0\n",
    "        ll = intervals[i]\n",
    "        ul = intervals[i+1]\n",
    "        if ul==max(arr1):\n",
    "            for j in range(ll,ul):\n",
    "                count+=arr1.count(j)\n",
    "        else:\n",
    "            for j in range(ll,ul):\n",
    "                count+=arr1.count(j)\n",
    "        freq.append(count)\n",
    "    print('|\\tIntervals\\t|\\tFrequency\\t|')\n",
    "    print('_'*50)\n",
    "    for i in range(len(intervals)-1):\n",
    "        ll = intervals[i]\n",
    "        ul = intervals[i+1]-1\n",
    "        print(f'|\\t{ll}-{ul}\\t\\t|\\t{freq[i]}\\t\\t|')\n",
    "        print('_'*50)\n",
    "    \n"
   ]
  },
  {
   "cell_type": "code",
   "execution_count": 121,
   "metadata": {},
   "outputs": [
    {
     "data": {
      "text/plain": [
       "array([124, 131,  55, 159,  56,  25,  91, 161, 143,  46, 185, 137, 143,\n",
       "       162,  74,  18,  80, 198,  12,   6,  18,   8, 121,  25, 182,  91,\n",
       "       154,  12,   3, 178,  76,  14,  53, 139, 141, 151, 191, 183,  27,\n",
       "        95, 195,  85, 102,   5, 107, 164,  79,  13,  34, 175])"
      ]
     },
     "execution_count": 121,
     "metadata": {},
     "output_type": "execute_result"
    }
   ],
   "source": [
    "arr"
   ]
  },
  {
   "cell_type": "code",
   "execution_count": 120,
   "metadata": {},
   "outputs": [
    {
     "name": "stdout",
     "output_type": "stream",
     "text": [
      "|\tIntervals\t|\tFrequency\t|\n",
      "__________________________________________________\n",
      "|\t3-29\t\t|\t13\t\t|\n",
      "__________________________________________________\n",
      "|\t30-56\t\t|\t5\t\t|\n",
      "__________________________________________________\n",
      "|\t57-83\t\t|\t4\t\t|\n",
      "__________________________________________________\n",
      "|\t84-110\t\t|\t6\t\t|\n",
      "__________________________________________________\n",
      "|\t111-137\t\t|\t4\t\t|\n",
      "__________________________________________________\n",
      "|\t138-164\t\t|\t10\t\t|\n",
      "__________________________________________________\n",
      "|\t165-191\t\t|\t6\t\t|\n",
      "__________________________________________________\n",
      "|\t192-218\t\t|\t2\t\t|\n",
      "__________________________________________________\n"
     ]
    }
   ],
   "source": [
    "freq_grouped1_data(arr)"
   ]
  },
  {
   "cell_type": "markdown",
   "metadata": {},
   "source": [
    "### Create a frequency percentage table for grouped data exclusive method "
   ]
  },
  {
   "cell_type": "code",
   "execution_count": 122,
   "metadata": {},
   "outputs": [],
   "source": [
    "arr = np.random.randint(1,200,50)"
   ]
  },
  {
   "cell_type": "code",
   "execution_count": 123,
   "metadata": {},
   "outputs": [
    {
     "data": {
      "text/plain": [
       "array([118, 102,  83, 124,  76,   1,  63,  66, 128, 117, 126,  93, 171,\n",
       "        68, 198,  40,  80,  52, 128,   8, 128,  14,  93, 157, 155, 119,\n",
       "        49,  25, 141, 124,  14,  37, 111, 191,  33, 171, 179, 197, 193,\n",
       "         2, 118, 125,  91, 131,   1,  98,   2, 119, 167, 127])"
      ]
     },
     "execution_count": 123,
     "metadata": {},
     "output_type": "execute_result"
    }
   ],
   "source": [
    "arr"
   ]
  },
  {
   "cell_type": "code",
   "execution_count": 136,
   "metadata": {},
   "outputs": [],
   "source": [
    "def freq_groupedper_data(arr):\n",
    "    N = len(arr)\n",
    "    k = int(round(1+(3.322*np.log10(N))))\n",
    "    range_ = max(arr)- min(arr)\n",
    "    size = int(round(range_ //k))\n",
    "    intervals = list(range(min(arr),max(arr)+size,size))\n",
    "    freq = []\n",
    "    arr1  = list(arr)\n",
    "    for i in range(len(intervals)-1):\n",
    "        count = 0\n",
    "        ll = intervals[i]\n",
    "        ul = intervals[i+1]\n",
    "        if ul==max(arr1):\n",
    "            for j in range(ll,ul):\n",
    "                count+=arr1.count(j)\n",
    "        else:\n",
    "            for j in range(ll,ul):\n",
    "                count+=arr1.count(j)\n",
    "        freq.append(count)\n",
    "    print('|\\tIntervals\\t|\\tFrequency\\t|\\tPercentage\\t|')\n",
    "    print('_'*75)\n",
    "    for i in range(len(intervals)-1):\n",
    "        ll = intervals[i]\n",
    "        ul = intervals[i+1]-1\n",
    "        print(f'|\\t{ll}-{ul}\\t\\t|\\t{freq[i]}\\t\\t|\\t{round((freq[i]/N)*100)}\\t\\t|')\n",
    "        print('_'*75)\n",
    "    \n"
   ]
  },
  {
   "cell_type": "code",
   "execution_count": 137,
   "metadata": {},
   "outputs": [
    {
     "name": "stdout",
     "output_type": "stream",
     "text": [
      "|\tIntervals\t|\tFrequency\t|\tPercentage\t|\n",
      "___________________________________________________________________________\n",
      "|\t1-28\t\t|\t8\t\t|\t16\t\t|\n",
      "___________________________________________________________________________\n",
      "|\t29-56\t\t|\t5\t\t|\t10\t\t|\n",
      "___________________________________________________________________________\n",
      "|\t57-84\t\t|\t6\t\t|\t12\t\t|\n",
      "___________________________________________________________________________\n",
      "|\t85-112\t\t|\t6\t\t|\t12\t\t|\n",
      "___________________________________________________________________________\n",
      "|\t113-140\t\t|\t14\t\t|\t28\t\t|\n",
      "___________________________________________________________________________\n",
      "|\t141-168\t\t|\t4\t\t|\t8\t\t|\n",
      "___________________________________________________________________________\n",
      "|\t169-196\t\t|\t5\t\t|\t10\t\t|\n",
      "___________________________________________________________________________\n",
      "|\t197-224\t\t|\t2\t\t|\t4\t\t|\n",
      "___________________________________________________________________________\n"
     ]
    }
   ],
   "source": [
    "freq_groupedper_data(arr)"
   ]
  },
  {
   "cell_type": "markdown",
   "metadata": {},
   "source": [
    "### 5. Use exclusive method to create classes and calculate less than and more than cummulative Frequency table\n"
   ]
  },
  {
   "cell_type": "code",
   "execution_count": 147,
   "metadata": {},
   "outputs": [],
   "source": [
    "arr = np.random.randint(1,100,50)\n"
   ]
  },
  {
   "cell_type": "code",
   "execution_count": 171,
   "metadata": {},
   "outputs": [],
   "source": [
    "N = len(arr)\n",
    "k = int(round(1+(3.322*np.log10(N))))\n",
    "range_ = max(arr)- min(arr)\n",
    "size = int(round(range_ //k))"
   ]
  },
  {
   "cell_type": "code",
   "execution_count": 254,
   "metadata": {},
   "outputs": [],
   "source": [
    "def freq_cummulative_data(arr):\n",
    "    N = len(arr)\n",
    "    k = int(round(1+(3.322*np.log10(N))))\n",
    "    range_ = max(arr)- min(arr)\n",
    "    size = int(round(range_ //k))\n",
    "    intervals = list(range(min(arr),max(arr)+size,size))\n",
    "    freq = []\n",
    "    arr1  = list(arr)\n",
    "    for i in range(len(intervals)-1):\n",
    "        count = 0\n",
    "        ll = intervals[i]\n",
    "        ul = intervals[i+1]\n",
    "        if ul==max(arr1):\n",
    "            for j in range(ll,ul+1):\n",
    "                count+=arr1.count(j)\n",
    "        else:\n",
    "            for j in range(ll,ul):\n",
    "                count+=arr1.count(j)\n",
    "        freq.append(count)\n",
    "    c= 0\n",
    "    l1 = []\n",
    "    for i in freq:\n",
    "        c+=i\n",
    "        l1.append(c)\n",
    "    c1=0\n",
    "    l2 = []\n",
    "    for i in freq[::-1]:\n",
    "        c1+=i\n",
    "        l2.append(c1)\n",
    "    \n",
    "    print('|\\tIntervals\\t|\\tFrequency\\t|\\tLess than cumm\\t|\\tMore than cumm\\t|')\n",
    "    print('_'*100)\n",
    "    for i in range(len(intervals)-1):\n",
    "\n",
    "        ll = intervals[i]\n",
    "        ul = intervals[i+1]\n",
    "        print(f'|\\t{ll}-{ul}\\t\\t|\\t{freq[i]}\\t\\t|\\t{l1[i]}\\t\\t|\\t{l2[-i-1]}\\t\\t|')\n",
    "        print('_'*100)\n",
    "    \n"
   ]
  },
  {
   "cell_type": "code",
   "execution_count": 255,
   "metadata": {},
   "outputs": [
    {
     "name": "stdout",
     "output_type": "stream",
     "text": [
      "|\tIntervals\t|\tFrequency\t|\tLess than cumm\t|\tMore than cumm\t|\n",
      "____________________________________________________________________________________________________\n",
      "|\t1-29\t\t|\t3\t\t|\t3\t\t|\t50\t\t|\n",
      "____________________________________________________________________________________________________\n",
      "|\t29-57\t\t|\t5\t\t|\t8\t\t|\t47\t\t|\n",
      "____________________________________________________________________________________________________\n",
      "|\t57-85\t\t|\t5\t\t|\t13\t\t|\t42\t\t|\n",
      "____________________________________________________________________________________________________\n",
      "|\t85-113\t\t|\t5\t\t|\t18\t\t|\t37\t\t|\n",
      "____________________________________________________________________________________________________\n",
      "|\t113-141\t\t|\t9\t\t|\t27\t\t|\t32\t\t|\n",
      "____________________________________________________________________________________________________\n",
      "|\t141-169\t\t|\t11\t\t|\t38\t\t|\t23\t\t|\n",
      "____________________________________________________________________________________________________\n",
      "|\t169-197\t\t|\t10\t\t|\t48\t\t|\t12\t\t|\n",
      "____________________________________________________________________________________________________\n",
      "|\t197-225\t\t|\t2\t\t|\t50\t\t|\t2\t\t|\n",
      "____________________________________________________________________________________________________\n"
     ]
    }
   ],
   "source": [
    "freq_cummulative_data(arr)"
   ]
  },
  {
   "cell_type": "markdown",
   "metadata": {},
   "source": [
    "### Calculate Cummulative Percentage Freq. Table"
   ]
  },
  {
   "cell_type": "code",
   "execution_count": 266,
   "metadata": {},
   "outputs": [],
   "source": [
    "arr = np.random.randint(1,100,40)"
   ]
  },
  {
   "cell_type": "code",
   "execution_count": 271,
   "metadata": {},
   "outputs": [],
   "source": [
    "def freq_cummulative_per_data(arr):\n",
    "    N = len(arr)\n",
    "    k = int(round(1+(3.322*np.log10(N))))\n",
    "    range_ = max(arr)- min(arr)\n",
    "    size = int(round(range_ //k))\n",
    "    intervals = list(range(min(arr),max(arr)+size,size))\n",
    "    freq = []\n",
    "    arr1  = list(arr)\n",
    "    for i in range(len(intervals)-1):\n",
    "        count = 0\n",
    "        ll = intervals[i]\n",
    "        ul = intervals[i+1]\n",
    "        if ul==max(arr1):\n",
    "            for j in range(ll,ul+1):\n",
    "                count+=arr1.count(j)\n",
    "        else:\n",
    "            for j in range(ll,ul):\n",
    "                count+=arr1.count(j)\n",
    "        freq.append(count)\n",
    "    c= 0\n",
    "    l1 = []\n",
    "    for i in freq:\n",
    "        c+=i\n",
    "        l1.append(c)\n",
    "    \n",
    "    \n",
    "    print('|\\tIntervals\\t|\\tFrequency\\t|\\tLess than cumm\\t|\\tPercentage\\t|')\n",
    "    print('_'*100)\n",
    "    for i in range(len(intervals)-1):\n",
    "\n",
    "        ll = intervals[i]\n",
    "        ul = intervals[i+1]\n",
    "        print(f'|\\t{ll}-{ul}\\t\\t|\\t{freq[i]}\\t\\t|\\t{l1[i]}\\t\\t|\\t{round((l1[i]/N)*100,2)}\\t\\t|')\n",
    "        print('_'*100)\n",
    "    \n"
   ]
  },
  {
   "cell_type": "code",
   "execution_count": 272,
   "metadata": {},
   "outputs": [
    {
     "name": "stdout",
     "output_type": "stream",
     "text": [
      "|\tIntervals\t|\tFrequency\t|\tLess than cumm\t|\tPercentage\t|\n",
      "____________________________________________________________________________________________________\n",
      "|\t2-18\t\t|\t8\t\t|\t8\t\t|\t20.0\t\t|\n",
      "____________________________________________________________________________________________________\n",
      "|\t18-34\t\t|\t3\t\t|\t11\t\t|\t27.5\t\t|\n",
      "____________________________________________________________________________________________________\n",
      "|\t34-50\t\t|\t9\t\t|\t20\t\t|\t50.0\t\t|\n",
      "____________________________________________________________________________________________________\n",
      "|\t50-66\t\t|\t3\t\t|\t23\t\t|\t57.5\t\t|\n",
      "____________________________________________________________________________________________________\n",
      "|\t66-82\t\t|\t7\t\t|\t30\t\t|\t75.0\t\t|\n",
      "____________________________________________________________________________________________________\n",
      "|\t82-98\t\t|\t8\t\t|\t38\t\t|\t95.0\t\t|\n",
      "____________________________________________________________________________________________________\n",
      "|\t98-114\t\t|\t2\t\t|\t40\t\t|\t100.0\t\t|\n",
      "____________________________________________________________________________________________________\n"
     ]
    }
   ],
   "source": [
    "freq_cummulative_per_data(arr)"
   ]
  },
  {
   "cell_type": "markdown",
   "metadata": {},
   "source": [
    "### Calculate mean for grouped data"
   ]
  },
  {
   "cell_type": "code",
   "execution_count": 441,
   "metadata": {},
   "outputs": [],
   "source": [
    "arr = np.random.randint(1,100,40)"
   ]
  },
  {
   "cell_type": "code",
   "execution_count": 442,
   "metadata": {},
   "outputs": [
    {
     "data": {
      "text/plain": [
       "array([60, 54, 46, 76, 73, 81, 30, 88, 57, 69, 23, 73, 18, 74, 68, 31, 23,\n",
       "       72, 30, 83, 40, 44, 68, 40, 49, 71, 11, 72, 78, 78, 36, 58, 47, 18,\n",
       "       40, 96, 69, 70, 97, 14])"
      ]
     },
     "execution_count": 442,
     "metadata": {},
     "output_type": "execute_result"
    }
   ],
   "source": [
    "arr"
   ]
  },
  {
   "cell_type": "code",
   "execution_count": 443,
   "metadata": {},
   "outputs": [],
   "source": [
    "def mean_grp_data(arr):\n",
    "    N = len(arr)\n",
    "    k = int(round(1+(3.322*np.log10(N))))\n",
    "    range_ = max(arr)-min(arr)\n",
    "    size = int(round(range_/k))\n",
    "    intervals = list(range(min(arr),max(arr)+size,size))\n",
    "    freq=[]\n",
    "    mid = []\n",
    "    fd_count = 0\n",
    "    arr1 =list(arr)\n",
    "    for i in range(len(intervals)-1):\n",
    "        ll = intervals[i]\n",
    "        ul = intervals[i+1]\n",
    "        X = (ll+ul)//2\n",
    "        mid.append(X)\n",
    "        count = 0\n",
    "        if ul ==max(arr):\n",
    "            for j in range(ll,ul+1):\n",
    "                count+=arr1.count(j)\n",
    "        else:\n",
    "            for j  in range(ll,ul):\n",
    "                count+=arr1.count(j)\n",
    "        freq.append(count)\n",
    "    A = mid[k//2]\n",
    "    print('|\\tIntervals\\t|\\tFrequency\\t|\\tMid (X)\\t\\t|\\td\\t\\t|\\tfd\\t\\t|')\n",
    "    print('_'*120)\n",
    "    for i in range(len(intervals)-1):\n",
    "\n",
    "        ll = intervals[i]\n",
    "        ul = intervals[i+1]\n",
    "        fd_count+=freq[i]*((mid[i]-A)//size)\n",
    "        \n",
    "        if A == mid[i]:\n",
    "            print(f'|\\t{ll}-{ul}\\t\\t|\\t{freq[i]}\\t\\t|\\tA[{mid[i]}]\\t\\t|\\t{(mid[i]-A)//size}\\t\\t|\\t{freq[i]*((mid[i]-A)//size)}\\t\\t|')\n",
    "            print('_'*120)\n",
    "        else:\n",
    "            print(f'|\\t{ll}-{ul}\\t\\t|\\t{freq[i]}\\t\\t|\\t{mid[i]}\\t\\t|\\t{(mid[i]-A)//size}\\t\\t|\\t{freq[i]*((mid[i]-A)//size)}\\t\\t|')\n",
    "            print('_'*120)\n",
    "    print(f'|\\tTotal\\t\\t|\\t{len(arr)}\\t\\t|\\t\\t\\t|\\t\\t\\t|\\t{fd_count}\\t\\t|')\n",
    "    print('_'*120)\n",
    "            \n",
    "    \n",
    "        "
   ]
  },
  {
   "cell_type": "code",
   "execution_count": 444,
   "metadata": {},
   "outputs": [
    {
     "name": "stdout",
     "output_type": "stream",
     "text": [
      "|\tIntervals\t|\tFrequency\t|\tMid (X)\t\t|\td\t\t|\tfd\t\t|\n",
      "________________________________________________________________________________________________________________________\n",
      "|\t11-25\t\t|\t6\t\t|\t18\t\t|\t-3\t\t|\t-18\t\t|\n",
      "________________________________________________________________________________________________________________________\n",
      "|\t25-39\t\t|\t4\t\t|\t32\t\t|\t-2\t\t|\t-8\t\t|\n",
      "________________________________________________________________________________________________________________________\n",
      "|\t39-53\t\t|\t7\t\t|\t46\t\t|\t-1\t\t|\t-7\t\t|\n",
      "________________________________________________________________________________________________________________________\n",
      "|\t53-67\t\t|\t4\t\t|\tA[60]\t\t|\t0\t\t|\t0\t\t|\n",
      "________________________________________________________________________________________________________________________\n",
      "|\t67-81\t\t|\t14\t\t|\t74\t\t|\t1\t\t|\t14\t\t|\n",
      "________________________________________________________________________________________________________________________\n",
      "|\t81-95\t\t|\t3\t\t|\t88\t\t|\t2\t\t|\t6\t\t|\n",
      "________________________________________________________________________________________________________________________\n",
      "|\t95-109\t\t|\t2\t\t|\t102\t\t|\t3\t\t|\t6\t\t|\n",
      "________________________________________________________________________________________________________________________\n",
      "|\tTotal\t\t|\t40\t\t|\t\t\t|\t\t\t|\t-7\t\t|\n",
      "________________________________________________________________________________________________________________________\n"
     ]
    }
   ],
   "source": [
    "mean_grp_data(arr)"
   ]
  },
  {
   "cell_type": "markdown",
   "metadata": {},
   "source": [
    "### Calculate mean for ungrouped/ descrete frequency distribution"
   ]
  },
  {
   "cell_type": "code",
   "execution_count": 380,
   "metadata": {},
   "outputs": [],
   "source": [
    "arr = np.random.randint(1,25,100)\n"
   ]
  },
  {
   "cell_type": "code",
   "execution_count": 381,
   "metadata": {},
   "outputs": [
    {
     "data": {
      "text/plain": [
       "array([17, 19, 12, 14,  4, 17,  1, 20, 17, 11, 12,  3, 14, 16, 18, 24,  9,\n",
       "        2, 10, 10, 15, 19, 23,  3, 17,  6,  5, 13,  5, 14,  7, 20, 10,  5,\n",
       "        4,  8, 11, 15, 10, 20,  3, 17,  9, 14,  2, 21,  4,  2,  1, 10, 17,\n",
       "        6, 11,  1, 11,  8, 18, 18, 15, 10,  5, 21,  6, 10,  9, 15, 13, 24,\n",
       "       23, 24, 16, 13, 16, 11, 10, 12, 16, 20, 15,  7,  6, 15, 18, 23, 14,\n",
       "        2,  3, 23, 12, 12,  2, 21,  1,  1,  1, 17,  5, 21, 11, 15])"
      ]
     },
     "execution_count": 381,
     "metadata": {},
     "output_type": "execute_result"
    }
   ],
   "source": [
    "arr"
   ]
  },
  {
   "cell_type": "code",
   "execution_count": 437,
   "metadata": {},
   "outputs": [],
   "source": [
    "def mean_ungrp_data(arr):\n",
    "    arr1  = Counter(arr)\n",
    "    l = list(arr1.keys())\n",
    "    p = len(l)//2\n",
    "    A = l[p]\n",
    "    print('|\\tX\\t|\\tf\\t|\\tfx\\t|\\td=x-A\\t|\\tfd\\t|')\n",
    "    print('_'*80)\n",
    "    fd_count = 0\n",
    "    fx_count = 0\n",
    "    for i in arr1.items():\n",
    "        fd_count+=i[1]*(i[0]-A)\n",
    "        fx_count+=i[0]*i[1]\n",
    "        if A == i[0]:\n",
    "            print(f'|\\tA[{i[0]}]\\t|\\t{i[1]}\\t|\\t{i[0]*i[1]}\\t|\\t{i[0]-A}\\t|\\t{i[1]*(i[0]-A)}\\t|')\n",
    "            print('_'*80)\n",
    "        else:\n",
    "            print(f'|\\t{i[0]}\\t|\\t{i[1]}\\t|\\t{i[0]*i[1]}\\t|\\t{i[0]-A}\\t|\\t{i[1]*(i[0]-A)}\\t|')\n",
    "            print('_'*80)\n",
    "    print(f'|\\tTotal\\t|\\t{len(arr)}\\t|\\t{fx_count}\\t|\\t\\t|\\t{fd_count}\\t|')\n",
    "    print('_'*80)\n",
    "            \n",
    "    \n",
    "        "
   ]
  },
  {
   "cell_type": "code",
   "execution_count": 438,
   "metadata": {},
   "outputs": [
    {
     "name": "stdout",
     "output_type": "stream",
     "text": [
      "|\tX\t|\tf\t|\tfx\t|\td=x-A\t|\tfd\t|\n",
      "________________________________________________________________________________\n",
      "|\t17\t|\t7\t|\t119\t|\t-7\t|\t-49\t|\n",
      "________________________________________________________________________________\n",
      "|\t19\t|\t2\t|\t38\t|\t-5\t|\t-10\t|\n",
      "________________________________________________________________________________\n",
      "|\t12\t|\t5\t|\t60\t|\t-12\t|\t-60\t|\n",
      "________________________________________________________________________________\n",
      "|\t14\t|\t5\t|\t70\t|\t-10\t|\t-50\t|\n",
      "________________________________________________________________________________\n",
      "|\t4\t|\t3\t|\t12\t|\t-20\t|\t-60\t|\n",
      "________________________________________________________________________________\n",
      "|\t1\t|\t6\t|\t6\t|\t-23\t|\t-138\t|\n",
      "________________________________________________________________________________\n",
      "|\t20\t|\t4\t|\t80\t|\t-4\t|\t-16\t|\n",
      "________________________________________________________________________________\n",
      "|\t11\t|\t6\t|\t66\t|\t-13\t|\t-78\t|\n",
      "________________________________________________________________________________\n",
      "|\t3\t|\t4\t|\t12\t|\t-21\t|\t-84\t|\n",
      "________________________________________________________________________________\n",
      "|\t16\t|\t4\t|\t64\t|\t-8\t|\t-32\t|\n",
      "________________________________________________________________________________\n",
      "|\t18\t|\t4\t|\t72\t|\t-6\t|\t-24\t|\n",
      "________________________________________________________________________________\n",
      "|\tA[24]\t|\t3\t|\t72\t|\t0\t|\t0\t|\n",
      "________________________________________________________________________________\n",
      "|\t9\t|\t3\t|\t27\t|\t-15\t|\t-45\t|\n",
      "________________________________________________________________________________\n",
      "|\t2\t|\t5\t|\t10\t|\t-22\t|\t-110\t|\n",
      "________________________________________________________________________________\n",
      "|\t10\t|\t8\t|\t80\t|\t-14\t|\t-112\t|\n",
      "________________________________________________________________________________\n",
      "|\t15\t|\t7\t|\t105\t|\t-9\t|\t-63\t|\n",
      "________________________________________________________________________________\n",
      "|\t23\t|\t4\t|\t92\t|\t-1\t|\t-4\t|\n",
      "________________________________________________________________________________\n",
      "|\t6\t|\t4\t|\t24\t|\t-18\t|\t-72\t|\n",
      "________________________________________________________________________________\n",
      "|\t5\t|\t5\t|\t25\t|\t-19\t|\t-95\t|\n",
      "________________________________________________________________________________\n",
      "|\t13\t|\t3\t|\t39\t|\t-11\t|\t-33\t|\n",
      "________________________________________________________________________________\n",
      "|\t7\t|\t2\t|\t14\t|\t-17\t|\t-34\t|\n",
      "________________________________________________________________________________\n",
      "|\t8\t|\t2\t|\t16\t|\t-16\t|\t-32\t|\n",
      "________________________________________________________________________________\n",
      "|\t21\t|\t4\t|\t84\t|\t-3\t|\t-12\t|\n",
      "________________________________________________________________________________\n",
      "|\tTotal\t|\t100\t|\t1187\t|\t\t|\t-1213\t|\n",
      "________________________________________________________________________________\n"
     ]
    }
   ],
   "source": [
    "mean_ungrp_data(arr)"
   ]
  },
  {
   "cell_type": "markdown",
   "metadata": {},
   "source": [
    "### Calculate weighted mean for data"
   ]
  },
  {
   "cell_type": "code",
   "execution_count": 449,
   "metadata": {},
   "outputs": [],
   "source": [
    "arr = np.random.randint(1,100,20)"
   ]
  },
  {
   "cell_type": "code",
   "execution_count": 450,
   "metadata": {},
   "outputs": [
    {
     "data": {
      "text/plain": [
       "array([12, 83,  2, 53, 32, 94, 48, 71, 85, 62, 80,  4, 80, 89, 46, 98, 84,\n",
       "       19, 66, 27])"
      ]
     },
     "execution_count": 450,
     "metadata": {},
     "output_type": "execute_result"
    }
   ],
   "source": [
    "arr"
   ]
  },
  {
   "cell_type": "code",
   "execution_count": 545,
   "metadata": {},
   "outputs": [],
   "source": [
    "def weighted_mean(arr):\n",
    "    arr1 = Counter(arr)\n",
    "    wx_count = 0\n",
    "    print('|\\tW\\t\\t|\\tX\\t\\t|\\tWX\\t\\t|')\n",
    "    print('_'*70)\n",
    "    for i in arr1.items():\n",
    "        wx_count+=i[0]*i[1]\n",
    "        print(f'|\\t{i[0]}\\t\\t|\\t{i[1]}\\t\\t|\\t{i[0]*i[1]}\\t\\t|')\n",
    "        print('_'*70)\n",
    "    print(f'|\\tTotal\\t\\t|\\t{len(arr)}\\t\\t|\\t{wx_count}\\t\\t|')\n",
    "    return wx_count/len(arr)"
   ]
  },
  {
   "cell_type": "code",
   "execution_count": 546,
   "metadata": {},
   "outputs": [
    {
     "name": "stdout",
     "output_type": "stream",
     "text": [
      "|\tW\t\t|\tX\t\t|\tWX\t\t|\n",
      "______________________________________________________________________\n",
      "|\t20\t\t|\t3\t\t|\t60\t\t|\n",
      "______________________________________________________________________\n",
      "|\t33\t\t|\t2\t\t|\t66\t\t|\n",
      "______________________________________________________________________\n",
      "|\t31\t\t|\t4\t\t|\t124\t\t|\n",
      "______________________________________________________________________\n",
      "|\t7\t\t|\t4\t\t|\t28\t\t|\n",
      "______________________________________________________________________\n",
      "|\t25\t\t|\t3\t\t|\t75\t\t|\n",
      "______________________________________________________________________\n",
      "|\t22\t\t|\t4\t\t|\t88\t\t|\n",
      "______________________________________________________________________\n",
      "|\t13\t\t|\t3\t\t|\t39\t\t|\n",
      "______________________________________________________________________\n",
      "|\t45\t\t|\t4\t\t|\t180\t\t|\n",
      "______________________________________________________________________\n",
      "|\t11\t\t|\t2\t\t|\t22\t\t|\n",
      "______________________________________________________________________\n",
      "|\t27\t\t|\t2\t\t|\t54\t\t|\n",
      "______________________________________________________________________\n",
      "|\t5\t\t|\t2\t\t|\t10\t\t|\n",
      "______________________________________________________________________\n",
      "|\t36\t\t|\t3\t\t|\t108\t\t|\n",
      "______________________________________________________________________\n",
      "|\t43\t\t|\t3\t\t|\t129\t\t|\n",
      "______________________________________________________________________\n",
      "|\t49\t\t|\t3\t\t|\t147\t\t|\n",
      "______________________________________________________________________\n",
      "|\t17\t\t|\t3\t\t|\t51\t\t|\n",
      "______________________________________________________________________\n",
      "|\t26\t\t|\t2\t\t|\t52\t\t|\n",
      "______________________________________________________________________\n",
      "|\t16\t\t|\t4\t\t|\t64\t\t|\n",
      "______________________________________________________________________\n",
      "|\t21\t\t|\t4\t\t|\t84\t\t|\n",
      "______________________________________________________________________\n",
      "|\t28\t\t|\t1\t\t|\t28\t\t|\n",
      "______________________________________________________________________\n",
      "|\t8\t\t|\t2\t\t|\t16\t\t|\n",
      "______________________________________________________________________\n",
      "|\t34\t\t|\t3\t\t|\t102\t\t|\n",
      "______________________________________________________________________\n",
      "|\t29\t\t|\t1\t\t|\t29\t\t|\n",
      "______________________________________________________________________\n",
      "|\t1\t\t|\t2\t\t|\t2\t\t|\n",
      "______________________________________________________________________\n",
      "|\t35\t\t|\t3\t\t|\t105\t\t|\n",
      "______________________________________________________________________\n",
      "|\t23\t\t|\t1\t\t|\t23\t\t|\n",
      "______________________________________________________________________\n",
      "|\t10\t\t|\t2\t\t|\t20\t\t|\n",
      "______________________________________________________________________\n",
      "|\t32\t\t|\t2\t\t|\t64\t\t|\n",
      "______________________________________________________________________\n",
      "|\t24\t\t|\t2\t\t|\t48\t\t|\n",
      "______________________________________________________________________\n",
      "|\t18\t\t|\t1\t\t|\t18\t\t|\n",
      "______________________________________________________________________\n",
      "|\t12\t\t|\t3\t\t|\t36\t\t|\n",
      "______________________________________________________________________\n",
      "|\t42\t\t|\t1\t\t|\t42\t\t|\n",
      "______________________________________________________________________\n",
      "|\t39\t\t|\t3\t\t|\t117\t\t|\n",
      "______________________________________________________________________\n",
      "|\t2\t\t|\t2\t\t|\t4\t\t|\n",
      "______________________________________________________________________\n",
      "|\t44\t\t|\t2\t\t|\t88\t\t|\n",
      "______________________________________________________________________\n",
      "|\t14\t\t|\t2\t\t|\t28\t\t|\n",
      "______________________________________________________________________\n",
      "|\t3\t\t|\t2\t\t|\t6\t\t|\n",
      "______________________________________________________________________\n",
      "|\t4\t\t|\t2\t\t|\t8\t\t|\n",
      "______________________________________________________________________\n",
      "|\t9\t\t|\t3\t\t|\t27\t\t|\n",
      "______________________________________________________________________\n",
      "|\t37\t\t|\t2\t\t|\t74\t\t|\n",
      "______________________________________________________________________\n",
      "|\t46\t\t|\t1\t\t|\t46\t\t|\n",
      "______________________________________________________________________\n",
      "|\t38\t\t|\t1\t\t|\t38\t\t|\n",
      "______________________________________________________________________\n",
      "|\t6\t\t|\t1\t\t|\t6\t\t|\n",
      "______________________________________________________________________\n",
      "|\tTotal\t\t|\t100\t\t|\t2356\t\t|\n"
     ]
    },
    {
     "data": {
      "text/plain": [
       "23.56"
      ]
     },
     "execution_count": 546,
     "metadata": {},
     "output_type": "execute_result"
    }
   ],
   "source": [
    "weighted_mean(arr)"
   ]
  },
  {
   "cell_type": "markdown",
   "metadata": {},
   "source": [
    "### Median for for ungrouped/ descrete frequency distribution"
   ]
  },
  {
   "cell_type": "code",
   "execution_count": 459,
   "metadata": {},
   "outputs": [],
   "source": [
    "arr = np.random.randint(1,100,20)"
   ]
  },
  {
   "cell_type": "code",
   "execution_count": 460,
   "metadata": {},
   "outputs": [
    {
     "data": {
      "text/plain": [
       "array([ 7, 42, 53, 72, 76, 53, 88,  5, 38, 90, 93, 95, 82, 57, 13, 26,  8,\n",
       "       92, 46, 11])"
      ]
     },
     "execution_count": 460,
     "metadata": {},
     "output_type": "execute_result"
    }
   ],
   "source": [
    "arr"
   ]
  },
  {
   "cell_type": "code",
   "execution_count": 549,
   "metadata": {},
   "outputs": [],
   "source": [
    "def median_ungrp_data(arr):\n",
    "    N = len(arr)\n",
    "    k = int(round(1+(3.322*np.log10(N))))\n",
    "    range_ = max(arr)- min(arr)\n",
    "    size = int(round(range_ //k))\n",
    "    intervals = list(range(min(arr),max(arr)+size,size))\n",
    "    freq = []\n",
    "    cumm = []\n",
    "    lcf = 0\n",
    "    arr1  = list(arr)\n",
    "    for i in range(len(intervals)-1):\n",
    "        count = 0\n",
    "        ll = intervals[i]\n",
    "        ul = intervals[i+1]\n",
    "        if ul==max(arr1):\n",
    "            for j in range(ll,ul+1):\n",
    "                count+=arr1.count(j)\n",
    "        else:\n",
    "            for j in range(ll,ul):\n",
    "                count+=arr1.count(j)\n",
    "        lcf+=count\n",
    "        cumm.append(lcf)\n",
    "        freq.append(count)\n",
    "    \n",
    "    print('|\\tIntervals\\t|\\tFrequency\\t|\\tcumm\\t\\t|')\n",
    "    print('_'*75)\n",
    "    for i in range(len(intervals)-1):\n",
    "        ll = intervals[i]\n",
    "        ul = intervals[i+1]\n",
    "\n",
    "        print(f'|\\t{ll}-{ul}\\t\\t|\\t{freq[i]}\\t\\t|\\t{cumm[i]}\\t\\t|')\n",
    "        print('_'*75)\n",
    "    for i in range(len(intervals)-1):\n",
    "        ll = intervals[i]\n",
    "        ul = intervals[i+1]\n",
    "        if cumm[i]>=N/2:\n",
    "            m = ll+((N/2-cumm[i-1])/freq[i])*size\n",
    "            break\n",
    "        \n",
    "        \n",
    "    return m\n",
    "            \n",
    "    \n",
    "\n",
    "        \n",
    "\n",
    "   "
   ]
  },
  {
   "cell_type": "code",
   "execution_count": 550,
   "metadata": {},
   "outputs": [
    {
     "name": "stdout",
     "output_type": "stream",
     "text": [
      "|\tIntervals\t|\tFrequency\t|\tcumm\t\t|\n",
      "___________________________________________________________________________\n",
      "|\t1-7\t\t|\t11\t\t|\t11\t\t|\n",
      "___________________________________________________________________________\n",
      "|\t7-13\t\t|\t16\t\t|\t27\t\t|\n",
      "___________________________________________________________________________\n",
      "|\t13-19\t\t|\t13\t\t|\t40\t\t|\n",
      "___________________________________________________________________________\n",
      "|\t19-25\t\t|\t14\t\t|\t54\t\t|\n",
      "___________________________________________________________________________\n",
      "|\t25-31\t\t|\t9\t\t|\t63\t\t|\n",
      "___________________________________________________________________________\n",
      "|\t31-37\t\t|\t17\t\t|\t80\t\t|\n",
      "___________________________________________________________________________\n",
      "|\t37-43\t\t|\t7\t\t|\t87\t\t|\n",
      "___________________________________________________________________________\n",
      "|\t43-49\t\t|\t13\t\t|\t100\t\t|\n",
      "___________________________________________________________________________\n"
     ]
    },
    {
     "data": {
      "text/plain": [
       "23.285714285714285"
      ]
     },
     "execution_count": 550,
     "metadata": {},
     "output_type": "execute_result"
    }
   ],
   "source": [
    "median_ungrp_data(arr)"
   ]
  },
  {
   "cell_type": "markdown",
   "metadata": {},
   "source": [
    "### Write a program to calculate mode of a group data"
   ]
  },
  {
   "cell_type": "code",
   "execution_count": 481,
   "metadata": {},
   "outputs": [],
   "source": [
    "arr = np.random.randint(1,50,100)"
   ]
  },
  {
   "cell_type": "code",
   "execution_count": 482,
   "metadata": {},
   "outputs": [
    {
     "data": {
      "text/plain": [
       "array([20, 33, 31,  7, 25, 22, 13, 45, 11, 27,  5, 36, 45, 43, 49,  7, 17,\n",
       "       26, 13, 16, 21, 28,  8, 34, 31, 17, 29,  1, 35, 25, 23, 10, 34, 32,\n",
       "        1, 20, 24, 18, 12, 42, 39,  5, 16,  2, 44, 14,  3,  3, 49, 16, 31,\n",
       "       45, 21, 35, 13, 20, 22, 26, 27,  4,  9, 44, 10, 39, 43, 33,  7, 36,\n",
       "       12, 21, 37, 39,  2,  4, 46, 11, 31, 37, 12,  8, 25, 49, 43, 38, 21,\n",
       "       24, 17, 14, 32, 22, 45, 34,  9,  7, 22,  6, 36,  9, 35, 16])"
      ]
     },
     "execution_count": 482,
     "metadata": {},
     "output_type": "execute_result"
    }
   ],
   "source": [
    "arr"
   ]
  },
  {
   "cell_type": "code",
   "execution_count": 505,
   "metadata": {},
   "outputs": [],
   "source": [
    "def mode_grp_data(arr):\n",
    "    N = len(arr)\n",
    "    k = int(round(1+(3.322*np.log10(N))))\n",
    "    range_ = max(arr)-min(arr)\n",
    "    size = int(round(range_//k))\n",
    "    intervals = list(range(min(arr),max(arr)+size,size))\n",
    "    freq = []\n",
    "    arr1 = list(arr)\n",
    "    for i in range(len(intervals)-1):\n",
    "        count = 0\n",
    "        ll = intervals[i]\n",
    "        ul = intervals[i+1]\n",
    "        if ul == max(arr):\n",
    "            for j in range(ll,ul+1):\n",
    "                count+=arr1.count(j)\n",
    "        else:\n",
    "            for j in range(ll,ul):\n",
    "                count+=arr1.count(j)\n",
    "        freq.append(count)\n",
    "    print('|\\tC-I\\t\\t|\\tf\\t\\t|')\n",
    "    print('_'*50)\n",
    "    for i in range(len(intervals)-1):\n",
    "        ll = intervals[i]\n",
    "        ul = intervals[i+1]\n",
    "        if max(freq)==freq[i]:\n",
    "            print(f'|\\t{ll}-{ul}\\t\\t|\\tf1[{freq[i]}]\\t\\t|')\n",
    "            print('_'*50)\n",
    "            m=ll+((freq[i]-freq[i-1])/(2*freq[i]-freq[i-1]-freq[i+1]))*size\n",
    "        else:\n",
    "            print(f'|\\t{ll}-{ul}\\t\\t|\\t{freq[i]}\\t\\t|')\n",
    "            print('_'*50)\n",
    "    return m\n",
    "            \n",
    "    \n",
    "            \n",
    "    \n",
    "        "
   ]
  },
  {
   "cell_type": "code",
   "execution_count": 506,
   "metadata": {},
   "outputs": [
    {
     "name": "stdout",
     "output_type": "stream",
     "text": [
      "|\tC-I\t\t|\tf\t\t|\n",
      "__________________________________________________\n",
      "|\t1-7\t\t|\t11\t\t|\n",
      "__________________________________________________\n",
      "|\t7-13\t\t|\t16\t\t|\n",
      "__________________________________________________\n",
      "|\t13-19\t\t|\t13\t\t|\n",
      "__________________________________________________\n",
      "|\t19-25\t\t|\t14\t\t|\n",
      "__________________________________________________\n",
      "|\t25-31\t\t|\t9\t\t|\n",
      "__________________________________________________\n",
      "|\t31-37\t\t|\tf1[17]\t\t|\n",
      "__________________________________________________\n",
      "|\t37-43\t\t|\t7\t\t|\n",
      "__________________________________________________\n",
      "|\t43-49\t\t|\t13\t\t|\n",
      "__________________________________________________\n"
     ]
    },
    {
     "data": {
      "text/plain": [
       "33.666666666666664"
      ]
     },
     "execution_count": 506,
     "metadata": {},
     "output_type": "execute_result"
    }
   ],
   "source": [
    "mode_grp_data(arr)"
   ]
  },
  {
   "cell_type": "code",
   "execution_count": null,
   "metadata": {},
   "outputs": [],
   "source": []
  }
 ],
 "metadata": {
  "kernelspec": {
   "display_name": "Python 3",
   "language": "python",
   "name": "python3"
  },
  "language_info": {
   "codemirror_mode": {
    "name": "ipython",
    "version": 3
   },
   "file_extension": ".py",
   "mimetype": "text/x-python",
   "name": "python",
   "nbconvert_exporter": "python",
   "pygments_lexer": "ipython3",
   "version": "3.8.3"
  }
 },
 "nbformat": 4,
 "nbformat_minor": 4
}
